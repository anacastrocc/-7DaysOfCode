{
  "nbformat": 4,
  "nbformat_minor": 0,
  "metadata": {
    "colab": {
      "provenance": [],
      "mount_file_id": "1TY8k1NKRrut-YNuPCRJX4ixOPyfKhfiO",
      "authorship_tag": "ABX9TyNbDM/tzp8X5QiY+egd580s",
      "include_colab_link": true
    },
    "kernelspec": {
      "name": "python3",
      "display_name": "Python 3"
    },
    "language_info": {
      "name": "python"
    }
  },
  "cells": [
    {
      "cell_type": "markdown",
      "metadata": {
        "id": "view-in-github",
        "colab_type": "text"
      },
      "source": [
        "<a href=\"https://colab.research.google.com/github/anacastrocc/-7DaysOfCode/blob/main/_7DaysOfCode.ipynb\" target=\"_parent\"><img src=\"https://colab.research.google.com/assets/colab-badge.svg\" alt=\"Open In Colab\"/></a>"
      ]
    },
    {
      "cell_type": "code",
      "execution_count": 2,
      "metadata": {
        "id": "NbDpYhdtXmOb"
      },
      "outputs": [],
      "source": [
        "#importando a biblioteca pandas\n",
        "import pandas as pd"
      ]
    },
    {
      "cell_type": "code",
      "source": [
        "dados_2010_1 = pd.read_csv('/content/drive/MyDrive/Análise de Dados/Projetos de Análise de Dados/7DaysOfCode/emprestimos-20101.csv')\n",
        "dados_2010_2 = pd.read_csv('/content/drive/MyDrive/Análise de Dados/Projetos de Análise de Dados/7DaysOfCode/emprestimos-20102.csv')\n",
        "dados_2011_1 = pd.read_csv('/content/drive/MyDrive/Análise de Dados/Projetos de Análise de Dados/7DaysOfCode/emprestimos-20111.csv')\n",
        "dados_2011_2 = pd.read_csv('/content/drive/MyDrive/Análise de Dados/Projetos de Análise de Dados/7DaysOfCode/emprestimos-20112.csv')\n",
        "dados_2012_1 = pd.read_csv('/content/drive/MyDrive/Análise de Dados/Projetos de Análise de Dados/7DaysOfCode/emprestimos-20121.csv')\n",
        "dados_2012_2 = pd.read_csv('/content/drive/MyDrive/Análise de Dados/Projetos de Análise de Dados/7DaysOfCode/emprestimos-20122.csv')\n",
        "dados_2013_1 = pd.read_csv('/content/drive/MyDrive/Análise de Dados/Projetos de Análise de Dados/7DaysOfCode/emprestimos-20131.csv')\n",
        "dados_2013_2 = pd.read_csv('/content/drive/MyDrive/Análise de Dados/Projetos de Análise de Dados/7DaysOfCode/emprestimos-20132.csv')\n",
        "dados_2014_1 = pd.read_csv('/content/drive/MyDrive/Análise de Dados/Projetos de Análise de Dados/7DaysOfCode/emprestimos-20141.csv')\n",
        "dados_2014_2 = pd.read_csv('/content/drive/MyDrive/Análise de Dados/Projetos de Análise de Dados/7DaysOfCode/emprestimos-20142.csv')\n",
        "dados_2015_1 = pd.read_csv('/content/drive/MyDrive/Análise de Dados/Projetos de Análise de Dados/7DaysOfCode/emprestimos-20151.csv')\n",
        "dados_2015_2 = pd.read_csv('/content/drive/MyDrive/Análise de Dados/Projetos de Análise de Dados/7DaysOfCode/emprestimos-20152.csv')\n",
        "dados_2016_1 = pd.read_csv('/content/drive/MyDrive/Análise de Dados/Projetos de Análise de Dados/7DaysOfCode/emprestimos-20161.csv')\n",
        "dados_2016_2 = pd.read_csv('/content/drive/MyDrive/Análise de Dados/Projetos de Análise de Dados/7DaysOfCode/emprestimos-20162.csv')\n",
        "dados_2017_1 = pd.read_csv('/content/drive/MyDrive/Análise de Dados/Projetos de Análise de Dados/7DaysOfCode/emprestimos-20171.csv')\n",
        "dados_2017_2 = pd.read_csv('/content/drive/MyDrive/Análise de Dados/Projetos de Análise de Dados/7DaysOfCode/emprestimos-20172.csv')\n",
        "dados_2018_1 = pd.read_csv('/content/drive/MyDrive/Análise de Dados/Projetos de Análise de Dados/7DaysOfCode/emprestimos-20181.csv')\n",
        "dados_2018_2 = pd.read_csv('/content/drive/MyDrive/Análise de Dados/Projetos de Análise de Dados/7DaysOfCode/emprestimos-20182.csv')\n",
        "dados_2019_1 = pd.read_csv('/content/drive/MyDrive/Análise de Dados/Projetos de Análise de Dados/7DaysOfCode/emprestimos-20191.csv')\n",
        "dados_2019_2 = pd.read_csv('/content/drive/MyDrive/Análise de Dados/Projetos de Análise de Dados/7DaysOfCode/emprestimos-20192.csv')\n",
        "dados_2020_1 = pd.read_csv('/content/drive/MyDrive/Análise de Dados/Projetos de Análise de Dados/7DaysOfCode/emprestimos-20201.csv')"
      ],
      "metadata": {
        "id": "DBl2HLBuUbll"
      },
      "execution_count": 3,
      "outputs": []
    },
    {
      "cell_type": "code",
      "source": [
        "emprestimos = pd.concat([dados_2010_1, dados_2010_2, dados_2011_1, dados_2011_2, dados_2012_1, dados_2012_2, dados_2013_1, dados_2013_2, dados_2014_1, dados_2014_2, dados_2015_1, dados_2015_2, dados_2016_1, dados_2016_2, dados_2017_1, dados_2017_2, dados_2018_1, dados_2018_2, dados_2019_1, dados_2019_2, dados_2020_1])"
      ],
      "metadata": {
        "id": "suqKt1l_8b7F"
      },
      "execution_count": 5,
      "outputs": []
    }
  ]
}